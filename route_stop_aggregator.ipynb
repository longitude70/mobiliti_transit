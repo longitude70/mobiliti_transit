{
 "cells": [
  {
   "cell_type": "code",
   "execution_count": null,
   "metadata": {},
   "outputs": [],
   "source": []
  },
  {
   "cell_type": "code",
   "execution_count": 1,
   "metadata": {},
   "outputs": [],
   "source": [
    "#!/usr/bin/env python3\n",
    "# -*- coding: utf-8 -*-\n",
    "\"\"\"\n",
    "Created on Tue Apr  2 16:11:12 2019\n",
    "\n",
    "@author: colinlaurence\n",
    "\"\"\"\n",
    "import geopandas as gp\n",
    "import pandas as pd\n",
    "import numpy as np\n",
    "import fiona\n",
    "import shapely\n",
    "import datetime as dt\n",
    "import matplotlib as plt\n",
    "#import cartopy\n",
    "import pyproj\n",
    "from scipy.spatial import distance\n",
    "import time"
   ]
  },
  {
   "cell_type": "code",
   "execution_count": 4,
   "metadata": {},
   "outputs": [],
   "source": [
    "trips_df = pd.read_csv(\"vta_gtfs/trips.txt\",header=0)\n",
    "stop_times_df = pd.read_csv(\"vta_gtfs/stop_times.txt\",header=0)\n"
   ]
  },
  {
   "cell_type": "code",
   "execution_count": 5,
   "metadata": {},
   "outputs": [
    {
     "data": {
      "text/html": [
       "<div>\n",
       "<style scoped>\n",
       "    .dataframe tbody tr th:only-of-type {\n",
       "        vertical-align: middle;\n",
       "    }\n",
       "\n",
       "    .dataframe tbody tr th {\n",
       "        vertical-align: top;\n",
       "    }\n",
       "\n",
       "    .dataframe thead th {\n",
       "        text-align: right;\n",
       "    }\n",
       "</style>\n",
       "<table border=\"1\" class=\"dataframe\">\n",
       "  <thead>\n",
       "    <tr style=\"text-align: right;\">\n",
       "      <th></th>\n",
       "      <th>route_id</th>\n",
       "      <th>service_id</th>\n",
       "      <th>trip_id</th>\n",
       "      <th>trip_headsign</th>\n",
       "      <th>direction_id</th>\n",
       "      <th>block_id</th>\n",
       "      <th>shape_id</th>\n",
       "    </tr>\n",
       "  </thead>\n",
       "  <tbody>\n",
       "    <tr>\n",
       "      <th>0</th>\n",
       "      <td>10</td>\n",
       "      <td>Weekdays</td>\n",
       "      <td>2493516</td>\n",
       "      <td>10 METRO LIGHT RAIL VIA AIRPORT</td>\n",
       "      <td>0</td>\n",
       "      <td>1073</td>\n",
       "      <td>10_EB01</td>\n",
       "    </tr>\n",
       "    <tr>\n",
       "      <th>1</th>\n",
       "      <td>10</td>\n",
       "      <td>Weekdays</td>\n",
       "      <td>2493524</td>\n",
       "      <td>10 METRO LIGHT RAIL VIA AIRPORT</td>\n",
       "      <td>0</td>\n",
       "      <td>1071</td>\n",
       "      <td>10_EB01</td>\n",
       "    </tr>\n",
       "    <tr>\n",
       "      <th>2</th>\n",
       "      <td>10</td>\n",
       "      <td>Weekdays</td>\n",
       "      <td>2493578</td>\n",
       "      <td>10 METRO LIGHT RAIL VIA AIRPORT</td>\n",
       "      <td>0</td>\n",
       "      <td>1073</td>\n",
       "      <td>10_EB01</td>\n",
       "    </tr>\n",
       "    <tr>\n",
       "      <th>3</th>\n",
       "      <td>10</td>\n",
       "      <td>Weekdays</td>\n",
       "      <td>2493537</td>\n",
       "      <td>10 METRO LIGHT RAIL VIA AIRPORT</td>\n",
       "      <td>0</td>\n",
       "      <td>1071</td>\n",
       "      <td>10_EB01</td>\n",
       "    </tr>\n",
       "    <tr>\n",
       "      <th>4</th>\n",
       "      <td>10</td>\n",
       "      <td>Weekdays</td>\n",
       "      <td>2493579</td>\n",
       "      <td>10 METRO LIGHT RAIL VIA AIRPORT</td>\n",
       "      <td>0</td>\n",
       "      <td>1074</td>\n",
       "      <td>10_EB01</td>\n",
       "    </tr>\n",
       "  </tbody>\n",
       "</table>\n",
       "</div>"
      ],
      "text/plain": [
       "   route_id service_id  trip_id                    trip_headsign  \\\n",
       "0        10   Weekdays  2493516  10 METRO LIGHT RAIL VIA AIRPORT   \n",
       "1        10   Weekdays  2493524  10 METRO LIGHT RAIL VIA AIRPORT   \n",
       "2        10   Weekdays  2493578  10 METRO LIGHT RAIL VIA AIRPORT   \n",
       "3        10   Weekdays  2493537  10 METRO LIGHT RAIL VIA AIRPORT   \n",
       "4        10   Weekdays  2493579  10 METRO LIGHT RAIL VIA AIRPORT   \n",
       "\n",
       "   direction_id  block_id shape_id  \n",
       "0             0      1073  10_EB01  \n",
       "1             0      1071  10_EB01  \n",
       "2             0      1073  10_EB01  \n",
       "3             0      1071  10_EB01  \n",
       "4             0      1074  10_EB01  "
      ]
     },
     "execution_count": 5,
     "metadata": {},
     "output_type": "execute_result"
    }
   ],
   "source": [
    "trips_df.head(5)"
   ]
  },
  {
   "cell_type": "code",
   "execution_count": 73,
   "metadata": {},
   "outputs": [
    {
     "data": {
      "text/html": [
       "<div>\n",
       "<style scoped>\n",
       "    .dataframe tbody tr th:only-of-type {\n",
       "        vertical-align: middle;\n",
       "    }\n",
       "\n",
       "    .dataframe tbody tr th {\n",
       "        vertical-align: top;\n",
       "    }\n",
       "\n",
       "    .dataframe thead th {\n",
       "        text-align: right;\n",
       "    }\n",
       "</style>\n",
       "<table border=\"1\" class=\"dataframe\">\n",
       "  <thead>\n",
       "    <tr style=\"text-align: right;\">\n",
       "      <th></th>\n",
       "      <th>trip_id</th>\n",
       "      <th>arrival_time</th>\n",
       "      <th>departure_time</th>\n",
       "      <th>stop_id</th>\n",
       "      <th>stop_sequence</th>\n",
       "      <th>stop_headsign</th>\n",
       "      <th>pickup_type</th>\n",
       "      <th>drop_off_type</th>\n",
       "      <th>shape_dist_traveled</th>\n",
       "    </tr>\n",
       "  </thead>\n",
       "  <tbody>\n",
       "    <tr>\n",
       "      <th>0</th>\n",
       "      <td>2493516</td>\n",
       "      <td>05:12:00</td>\n",
       "      <td>05:12:00</td>\n",
       "      <td>5228</td>\n",
       "      <td>1</td>\n",
       "      <td>NaN</td>\n",
       "      <td>NaN</td>\n",
       "      <td>NaN</td>\n",
       "      <td>NaN</td>\n",
       "    </tr>\n",
       "    <tr>\n",
       "      <th>1</th>\n",
       "      <td>2493516</td>\n",
       "      <td>NaN</td>\n",
       "      <td>NaN</td>\n",
       "      <td>4543</td>\n",
       "      <td>2</td>\n",
       "      <td>NaN</td>\n",
       "      <td>NaN</td>\n",
       "      <td>NaN</td>\n",
       "      <td>NaN</td>\n",
       "    </tr>\n",
       "    <tr>\n",
       "      <th>2</th>\n",
       "      <td>2493516</td>\n",
       "      <td>05:15:00</td>\n",
       "      <td>05:15:00</td>\n",
       "      <td>4545</td>\n",
       "      <td>3</td>\n",
       "      <td>NaN</td>\n",
       "      <td>NaN</td>\n",
       "      <td>NaN</td>\n",
       "      <td>NaN</td>\n",
       "    </tr>\n",
       "    <tr>\n",
       "      <th>3</th>\n",
       "      <td>2493516</td>\n",
       "      <td>05:21:00</td>\n",
       "      <td>05:21:00</td>\n",
       "      <td>8</td>\n",
       "      <td>4</td>\n",
       "      <td>NaN</td>\n",
       "      <td>NaN</td>\n",
       "      <td>NaN</td>\n",
       "      <td>NaN</td>\n",
       "    </tr>\n",
       "    <tr>\n",
       "      <th>4</th>\n",
       "      <td>2493516</td>\n",
       "      <td>05:23:00</td>\n",
       "      <td>05:23:00</td>\n",
       "      <td>6019</td>\n",
       "      <td>5</td>\n",
       "      <td>NaN</td>\n",
       "      <td>NaN</td>\n",
       "      <td>NaN</td>\n",
       "      <td>NaN</td>\n",
       "    </tr>\n",
       "  </tbody>\n",
       "</table>\n",
       "</div>"
      ],
      "text/plain": [
       "   trip_id arrival_time departure_time  stop_id  stop_sequence  stop_headsign  \\\n",
       "0  2493516     05:12:00       05:12:00     5228              1            NaN   \n",
       "1  2493516          NaN            NaN     4543              2            NaN   \n",
       "2  2493516     05:15:00       05:15:00     4545              3            NaN   \n",
       "3  2493516     05:21:00       05:21:00        8              4            NaN   \n",
       "4  2493516     05:23:00       05:23:00     6019              5            NaN   \n",
       "\n",
       "   pickup_type  drop_off_type  shape_dist_traveled  \n",
       "0          NaN            NaN                  NaN  \n",
       "1          NaN            NaN                  NaN  \n",
       "2          NaN            NaN                  NaN  \n",
       "3          NaN            NaN                  NaN  \n",
       "4          NaN            NaN                  NaN  "
      ]
     },
     "execution_count": 73,
     "metadata": {},
     "output_type": "execute_result"
    }
   ],
   "source": [
    "stop_times_df.head(5)"
   ]
  },
  {
   "cell_type": "code",
   "execution_count": null,
   "metadata": {},
   "outputs": [],
   "source": []
  },
  {
   "cell_type": "code",
   "execution_count": 64,
   "metadata": {},
   "outputs": [],
   "source": [
    "route_trip_stop_df=trips_df.merge(stop_times_df, left_on='trip_id', right_on='trip_id')"
   ]
  },
  {
   "cell_type": "code",
   "execution_count": null,
   "metadata": {},
   "outputs": [],
   "source": []
  },
  {
   "cell_type": "code",
   "execution_count": 70,
   "metadata": {},
   "outputs": [],
   "source": [
    "route_stop_df=pd.Series(route_trip_stop_df.groupby('route_id')['stop_id'].unique())"
   ]
  },
  {
   "cell_type": "code",
   "execution_count": 71,
   "metadata": {},
   "outputs": [
    {
     "data": {
      "text/plain": [
       "route_id\n",
       "10    [5228, 4543, 4545, 8, 6019, 5560, 15, 12, 13, ...\n",
       "12    [21, 2830, 2831, 2832, 2833, 5572, 28, 29, 505...\n",
       "13    [98, 99, 100, 101, 102, 103, 104, 105, 106, 29...\n",
       "14    [256, 3475, 236, 5662, 5372, 5373, 5659, 5660,...\n",
       "Name: stop_id, dtype: object"
      ]
     },
     "execution_count": 71,
     "metadata": {},
     "output_type": "execute_result"
    }
   ],
   "source": [
    "route_stop_df.head(4)"
   ]
  },
  {
   "cell_type": "code",
   "execution_count": null,
   "metadata": {},
   "outputs": [],
   "source": []
  },
  {
   "cell_type": "code",
   "execution_count": 72,
   "metadata": {},
   "outputs": [
    {
     "name": "stderr",
     "output_type": "stream",
     "text": [
      "/Users/colinlaurence/anaconda3/lib/python3.6/site-packages/ipykernel_launcher.py:1: FutureWarning: The signature of `Series.to_csv` was aligned to that of `DataFrame.to_csv`, and argument 'header' will change its default value from False to True: please pass an explicit value to suppress this warning.\n",
      "  \"\"\"Entry point for launching an IPython kernel.\n"
     ]
    }
   ],
   "source": [
    "route_stop_df.to_csv(r'VTA_routes_stops.csv')"
   ]
  }
 ],
 "metadata": {
  "kernelspec": {
   "display_name": "Python 3",
   "language": "python",
   "name": "python3"
  },
  "language_info": {
   "codemirror_mode": {
    "name": "ipython",
    "version": 3
   },
   "file_extension": ".py",
   "mimetype": "text/x-python",
   "name": "python",
   "nbconvert_exporter": "python",
   "pygments_lexer": "ipython3",
   "version": "3.6.8"
  }
 },
 "nbformat": 4,
 "nbformat_minor": 2
}
