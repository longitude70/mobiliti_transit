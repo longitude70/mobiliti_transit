{
 "cells": [
  {
   "cell_type": "code",
   "execution_count": 1,
   "metadata": {},
   "outputs": [],
   "source": [
    "import geopandas as gp\n",
    "import pandas as pd\n",
    "import numpy as np\n",
    "import fiona\n",
    "import shapely\n",
    "import datetime as dt\n",
    "import matplotlib as plt\n",
    "import cartopy\n",
    "import pyproj"
   ]
  },
  {
   "cell_type": "code",
   "execution_count": 2,
   "metadata": {},
   "outputs": [],
   "source": [
    "legs = pd.read_csv('Mobiliti/legs.tsv',sep='\\t')\n",
    "nodes = pd.read_csv('ms_nodes.csv')\n",
    "legs.columns = legs.columns.str.replace(' ', '_')"
   ]
  },
  {
   "cell_type": "code",
   "execution_count": 4,
   "metadata": {},
   "outputs": [],
   "source": [
    "nodes_alameda = pd.read_csv('county_nodes/nodes_alameda.csv')\n",
    "nodes_contra_costa = pd.read_csv('county_nodes/nodes_contra_costa.csv')\n",
    "nodes_marin = pd.read_csv('county_nodes/nodes_marin.csv')\n",
    "nodes_napa = pd.read_csv('county_nodes/nodes_napa.csv')\n",
    "nodes_san_francisco = pd.read_csv('county_nodes/nodes_san_francisco.csv')\n",
    "nodes_san_mateo = pd.read_csv('county_nodes/nodes_san_mateo.csv')\n",
    "nodes_santa_clara = pd.read_csv('county_nodes/nodes_santa_clara.csv')\n",
    "nodes_solano = pd.read_csv('county_nodes/nodes_solano.csv')\n",
    "nodes_sonoma = pd.read_csv('county_nodes/nodes_sonoma.csv')\n",
    "\n",
    "list_county_nodes = [nodes_alameda,nodes_contra_costa,nodes_marin,nodes_napa,nodes_san_francisco,nodes_san_mateo,nodes_santa_clara,nodes_solano,nodes_sonoma]"
   ]
  },
  {
   "cell_type": "code",
   "execution_count": 5,
   "metadata": {},
   "outputs": [],
   "source": [
    "legs_orig = legs"
   ]
  },
  {
   "cell_type": "code",
   "execution_count": 6,
   "metadata": {},
   "outputs": [],
   "source": [
    "#legs_s_c = legs.loc[legs.start_node.isin(nodes_s_c.id)&legs.end_node.isin(nodes_s_c.id)]\n",
    "\n",
    "list_county_legs = []\n",
    "for county_nodes in list_county_nodes:\n",
    "    county_legs = legs.loc[legs.start_node.isin(county_nodes.id)&legs.end_node.isin(county_nodes.id)]\n",
    "    list_county_legs.append(county_legs)\n",
    "    legs = legs.drop(county_legs.index.values,axis=0)"
   ]
  },
  {
   "cell_type": "code",
   "execution_count": 8,
   "metadata": {},
   "outputs": [],
   "source": [
    "list_county_legs_copy = list_county_legs"
   ]
  },
  {
   "cell_type": "code",
   "execution_count": 16,
   "metadata": {},
   "outputs": [],
   "source": [
    "list_county_legs_location = []\n",
    "for county_legs in list_county_legs:\n",
    "    county_legs = pd.merge(county_legs,nodes,left_on=['start_node'],right_on=['id'],sort=False)\n",
    "    county_legs = pd.merge(county_legs,nodes,left_on=['end_node'],right_on=['id'],sort=False,suffixes=('_start','_end'))\n",
    "    list_county_legs_location.append(county_legs)"
   ]
  },
  {
   "cell_type": "code",
   "execution_count": 10,
   "metadata": {},
   "outputs": [],
   "source": [
    "nodes = pd.read_csv('ms_nodes.csv')"
   ]
  },
  {
   "cell_type": "code",
   "execution_count": 11,
   "metadata": {},
   "outputs": [],
   "source": [
    "test = list_county_legs_copy[0]\n",
    "test_legs = pd.merge(test,nodes,left_on=['start_node'],right_on=['id'],sort=False)\n",
    "test_legs = pd.merge(test_legs,nodes,left_on=['end_node'],right_on=['id'],sort=False,suffixes=('_start','_end'))"
   ]
  },
  {
   "cell_type": "code",
   "execution_count": 19,
   "metadata": {},
   "outputs": [],
   "source": [
    "list_county_legs_location_copy = list_county_legs_location"
   ]
  },
  {
   "cell_type": "code",
   "execution_count": 27,
   "metadata": {},
   "outputs": [],
   "source": [
    "county_names = [\"alameda\",\"contra_costa\",\"marin\",\"napa\",\"san_francisco\",\"san_mateo\",\"santa_clara\",\"solano\",\"sonoma\"]"
   ]
  },
  {
   "cell_type": "code",
   "execution_count": 28,
   "metadata": {},
   "outputs": [],
   "source": [
    "i = 0\n",
    "for county_legs_location in list_county_legs_location:\n",
    "    copy = county_legs_location\n",
    "    copy.drop(['duration_(free)','duration_(congested)','id_start','taz_id_start','id_end','taz_id_end'],axis=1)\n",
    "    copy.to_csv('legs_{}.csv'.format(county_names[i]))\n",
    "    i+=1"
   ]
  },
  {
   "cell_type": "code",
   "execution_count": 26,
   "metadata": {},
   "outputs": [
    {
     "data": {
      "text/plain": [
       "array(['leg_id', 'start_node', 'end_node', 'total_distance_(m)',\n",
       "       'start_time', 'end_time_(free)', 'end_time_(congested)',\n",
       "       'duration_(free)', 'duration_(congested)', 'delay', 'delay_ratio',\n",
       "       'id_start', 'x_start', 'y_start', 'lat_start', 'lng_start',\n",
       "       'taz_id_start', 'id_end', 'x_end', 'y_end', 'lat_end', 'lng_end',\n",
       "       'taz_id_end'], dtype=object)"
      ]
     },
     "execution_count": 26,
     "metadata": {},
     "output_type": "execute_result"
    }
   ],
   "source": [
    "list_county_legs_location[0].columns.values"
   ]
  },
  {
   "cell_type": "code",
   "execution_count": 29,
   "metadata": {},
   "outputs": [
    {
     "data": {
      "text/html": [
       "<div>\n",
       "<style scoped>\n",
       "    .dataframe tbody tr th:only-of-type {\n",
       "        vertical-align: middle;\n",
       "    }\n",
       "\n",
       "    .dataframe tbody tr th {\n",
       "        vertical-align: top;\n",
       "    }\n",
       "\n",
       "    .dataframe thead th {\n",
       "        text-align: right;\n",
       "    }\n",
       "</style>\n",
       "<table border=\"1\" class=\"dataframe\">\n",
       "  <thead>\n",
       "    <tr style=\"text-align: right;\">\n",
       "      <th></th>\n",
       "      <th>id</th>\n",
       "      <th>x</th>\n",
       "      <th>y</th>\n",
       "      <th>lat</th>\n",
       "      <th>lng</th>\n",
       "      <th>taz_id</th>\n",
       "    </tr>\n",
       "  </thead>\n",
       "  <tbody>\n",
       "    <tr>\n",
       "      <th>0</th>\n",
       "      <td>1003286453</td>\n",
       "      <td>573278.811625</td>\n",
       "      <td>4.193710e+06</td>\n",
       "      <td>37.88794</td>\n",
       "      <td>-122.16663</td>\n",
       "      <td>23956.0</td>\n",
       "    </tr>\n",
       "    <tr>\n",
       "      <th>1</th>\n",
       "      <td>1003286454</td>\n",
       "      <td>573279.364169</td>\n",
       "      <td>4.193702e+06</td>\n",
       "      <td>37.88787</td>\n",
       "      <td>-122.16663</td>\n",
       "      <td>23956.0</td>\n",
       "    </tr>\n",
       "    <tr>\n",
       "      <th>2</th>\n",
       "      <td>1003286522</td>\n",
       "      <td>572828.412262</td>\n",
       "      <td>4.193962e+06</td>\n",
       "      <td>37.89025</td>\n",
       "      <td>-122.17173</td>\n",
       "      <td>23962.0</td>\n",
       "    </tr>\n",
       "    <tr>\n",
       "      <th>3</th>\n",
       "      <td>1003286524</td>\n",
       "      <td>572843.134829</td>\n",
       "      <td>4.193978e+06</td>\n",
       "      <td>37.89039</td>\n",
       "      <td>-122.17156</td>\n",
       "      <td>23962.0</td>\n",
       "    </tr>\n",
       "    <tr>\n",
       "      <th>4</th>\n",
       "      <td>1003286525</td>\n",
       "      <td>572850.602074</td>\n",
       "      <td>4.193987e+06</td>\n",
       "      <td>37.89047</td>\n",
       "      <td>-122.17147</td>\n",
       "      <td>23962.0</td>\n",
       "    </tr>\n",
       "  </tbody>\n",
       "</table>\n",
       "</div>"
      ],
      "text/plain": [
       "           id              x             y       lat        lng   taz_id\n",
       "0  1003286453  573278.811625  4.193710e+06  37.88794 -122.16663  23956.0\n",
       "1  1003286454  573279.364169  4.193702e+06  37.88787 -122.16663  23956.0\n",
       "2  1003286522  572828.412262  4.193962e+06  37.89025 -122.17173  23962.0\n",
       "3  1003286524  572843.134829  4.193978e+06  37.89039 -122.17156  23962.0\n",
       "4  1003286525  572850.602074  4.193987e+06  37.89047 -122.17147  23962.0"
      ]
     },
     "execution_count": 29,
     "metadata": {},
     "output_type": "execute_result"
    }
   ],
   "source": [
    "nodes.head()"
   ]
  },
  {
   "cell_type": "code",
   "execution_count": null,
   "metadata": {},
   "outputs": [],
   "source": []
  }
 ],
 "metadata": {
  "kernelspec": {
   "display_name": "Python 3",
   "language": "python",
   "name": "python3"
  },
  "language_info": {
   "codemirror_mode": {
    "name": "ipython",
    "version": 3
   },
   "file_extension": ".py",
   "mimetype": "text/x-python",
   "name": "python",
   "nbconvert_exporter": "python",
   "pygments_lexer": "ipython3",
   "version": "3.6.5"
  }
 },
 "nbformat": 4,
 "nbformat_minor": 2
}
