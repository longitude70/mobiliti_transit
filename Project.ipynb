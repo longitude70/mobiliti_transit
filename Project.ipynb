{
 "cells": [
  {
   "cell_type": "code",
   "execution_count": 1,
   "metadata": {},
   "outputs": [],
   "source": [
    "import geopandas as gp\n",
    "import pandas as pd\n",
    "import numpy as np\n",
    "import fiona\n",
    "import shapely\n",
    "import datetime as dt\n",
    "import matplotlib as plt\n",
    "import cartopy\n",
    "import pyproj"
   ]
  },
  {
   "cell_type": "code",
   "execution_count": 2,
   "metadata": {},
   "outputs": [],
   "source": [
    "counties = gp.read_file(\"counties/geo_export_24a711ea-1aa2-4482-a213-d2fda382418a.shp\")\n",
    "stop_df = pd.read_csv(\"vta_gtfs/stops.txt\",header=0)\n",
    "\n",
    "a = lambda x:shapely.geometry.Point(x.stop_lon, x.stop_lat)\n",
    "\n",
    "stop_df['geometry'] = stop_df.apply(a,axis=1)"
   ]
  },
  {
   "cell_type": "code",
   "execution_count": 3,
   "metadata": {},
   "outputs": [],
   "source": [
    "santa_clara = counties.loc[counties.county=='Santa Clara']['geometry'].values[0]"
   ]
  },
  {
   "cell_type": "code",
   "execution_count": 42,
   "metadata": {},
   "outputs": [],
   "source": [
    "links = pd.read_csv('ms_links.csv')\n",
    "nodes = pd.read_csv('ms_nodes.csv')\n",
    "nodes_s_c = pd.read_csv('nodes_s_c.csv')\n",
    "legs_s_c = pd.read_csv('legs_s_c.csv')"
   ]
  },
  {
   "cell_type": "code",
   "execution_count": 44,
   "metadata": {},
   "outputs": [
    {
     "data": {
      "text/plain": [
       "(161955, 8)"
      ]
     },
     "execution_count": 44,
     "metadata": {},
     "output_type": "execute_result"
    }
   ],
   "source": [
    "#delay_ratios = pd.read_csv('Mobiliti/delay_ratios.tsv',sep='\\t')\n",
    "#flow_rates = pd.read_csv('Mobiliti/flow_rates.tsv',sep='\\t')\n",
    "#link_speeds = pd.read_csv('Mobiliti/link_speeds.tsv',sep='\\t')\n",
    "\n",
    "nodes_s_c.shape"
   ]
  },
  {
   "cell_type": "code",
   "execution_count": 5,
   "metadata": {},
   "outputs": [],
   "source": [
    "legs = pd.read_csv('Mobiliti/legs.tsv',sep='\\t')"
   ]
  },
  {
   "cell_type": "code",
   "execution_count": 6,
   "metadata": {},
   "outputs": [],
   "source": [
    "shapes = pd.read_csv('vta_gtfs/shapes.txt')\n",
    "stops = pd.read_csv('vta_gtfs/stops.txt')"
   ]
  },
  {
   "cell_type": "code",
   "execution_count": 6,
   "metadata": {},
   "outputs": [],
   "source": [
    "#nodes['geometry'] = nodes.apply(lambda x:shapely.geometry.Point(x.lng,x.lat),axis=1)"
   ]
  },
  {
   "cell_type": "code",
   "execution_count": 9,
   "metadata": {},
   "outputs": [],
   "source": [
    "#nodes_s_c = nodes.loc[nodes.apply(lambda x : santa_clara.contains(x.geometry),axis=1)]"
   ]
  },
  {
   "cell_type": "code",
   "execution_count": 14,
   "metadata": {},
   "outputs": [],
   "source": [
    "#nodes_s_c.to_csv('nodes_s_c.csv')"
   ]
  },
  {
   "cell_type": "code",
   "execution_count": 11,
   "metadata": {},
   "outputs": [],
   "source": [
    "legs.columns = legs.columns.str.replace(' ', '_')"
   ]
  },
  {
   "cell_type": "code",
   "execution_count": 24,
   "metadata": {},
   "outputs": [],
   "source": [
    "test = legs.head(100)"
   ]
  },
  {
   "cell_type": "code",
   "execution_count": 46,
   "metadata": {},
   "outputs": [],
   "source": [
    "#legs_s_c = test.loc[test.apply(lambda x: nodes_s_c.id.isin([x.start_node])&nodes_s_c.id.isin([x.end_node]),axis=1)]\n",
    "#legs.start_node[0].isin\n",
    "\n",
    "legs_s_c = legs.loc[legs.start_node.isin(nodes_s_c.id)&legs.end_node.isin(nodes_s_c.id)]"
   ]
  },
  {
   "cell_type": "code",
   "execution_count": 40,
   "metadata": {},
   "outputs": [],
   "source": [
    "legs_s_c.to_csv('legs_s_c.csv')"
   ]
  },
  {
   "cell_type": "code",
   "execution_count": 47,
   "metadata": {},
   "outputs": [
    {
     "data": {
      "text/plain": [
       "(5846254, 11)"
      ]
     },
     "execution_count": 47,
     "metadata": {},
     "output_type": "execute_result"
    }
   ],
   "source": [
    "legs_s_c.shape"
   ]
  },
  {
   "cell_type": "code",
   "execution_count": 45,
   "metadata": {},
   "outputs": [
    {
     "data": {
      "text/plain": [
       "(21572908, 11)"
      ]
     },
     "execution_count": 45,
     "metadata": {},
     "output_type": "execute_result"
    }
   ],
   "source": []
  },
  {
   "cell_type": "code",
   "execution_count": null,
   "metadata": {},
   "outputs": [],
   "source": []
  }
 ],
 "metadata": {
  "kernelspec": {
   "display_name": "Python 3",
   "language": "python",
   "name": "python3"
  },
  "language_info": {
   "codemirror_mode": {
    "name": "ipython",
    "version": 3
   },
   "file_extension": ".py",
   "mimetype": "text/x-python",
   "name": "python",
   "nbconvert_exporter": "python",
   "pygments_lexer": "ipython3",
   "version": "3.6.5"
  }
 },
 "nbformat": 4,
 "nbformat_minor": 2
}
